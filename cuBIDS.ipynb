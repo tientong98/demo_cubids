{
 "cells": [
  {
   "cell_type": "markdown",
   "id": "7c1a6ee2-be84-447c-bc0e-4b4ad30275e7",
   "metadata": {},
   "source": [
    "# Check Dependencies Installation"
   ]
  },
  {
   "cell_type": "code",
   "execution_count": 1,
   "id": "d737cffa-31f8-4390-9a80-fb2fc535f56b",
   "metadata": {},
   "outputs": [
    {
     "name": "stdout",
     "output_type": "stream",
     "text": [
      "Python 3.12.3\n",
      "datalad 1.0.2\n",
      "git version 2.43.0\n",
      "git-annex version: 10.20240129\n",
      "build flags: Assistant Webapp Pairing Inotify DBus DesktopNotify TorrentParser MagicMime Benchmark Feeds Testsuite S3 WebDAV\n",
      "dependency versions: aws-0.24.1 bloomfilter-2.0.1.2 crypton-0.33 DAV-1.3.4 feed-1.3.2.1 ghc-9.4.7 http-client-0.7.14 persistent-sqlite-2.13.2.0 torrent-10000.1.3 uuid-1.3.15 yesod-1.6.2.1\n",
      "key/value backends: SHA256E SHA256 SHA512E SHA512 SHA224E SHA224 SHA384E SHA384 SHA3_256E SHA3_256 SHA3_512E SHA3_512 SHA3_224E SHA3_224 SHA3_384E SHA3_384 SKEIN256E SKEIN256 SKEIN512E SKEIN512 BLAKE2B256E BLAKE2B256 BLAKE2B512E BLAKE2B512 BLAKE2B160E BLAKE2B160 BLAKE2B224E BLAKE2B224 BLAKE2B384E BLAKE2B384 BLAKE2BP512E BLAKE2BP512 BLAKE2S256E BLAKE2S256 BLAKE2S160E BLAKE2S160 BLAKE2S224E BLAKE2S224 BLAKE2SP256E BLAKE2SP256 BLAKE2SP224E BLAKE2SP224 SHA1E SHA1 MD5E MD5 WORM URL X*\n",
      "remote types: git gcrypt p2p S3 bup directory rsync web bittorrent webdav adb tahoe glacier ddar git-lfs httpalso borg hook external\n",
      "operating system: linux aarch64\n",
      "supported repository versions: 8 9 10\n",
      "upgrade supported from repository versions: 0 1 2 3 4 5 6 7 8 9 10\n",
      "datalad_container 1.2.5\n",
      "datalad_osf 0.3.0\n"
     ]
    }
   ],
   "source": [
    "%%bash\n",
    "\n",
    "python --version\n",
    "datalad --version\n",
    "git --version\n",
    "git-annex version\n",
    "datalad containers-add --version\n",
    "datalad osf-credentials --version"
   ]
  },
  {
   "cell_type": "markdown",
   "id": "5d38b0c0-3387-4818-a1d0-d79f181f74dd",
   "metadata": {},
   "source": [
    "# Identifying and removing PHI"
   ]
  },
  {
   "cell_type": "code",
   "execution_count": 5,
   "id": "e0d84477-50d6-4343-a0e9-3eeb48cc84e8",
   "metadata": {},
   "outputs": [
    {
     "name": "stdout",
     "output_type": "stream",
     "text": [
      "INFO:cubids-cli:Acknowledgements\n",
      "AcquisitionMatrixPE\n",
      "AcquisitionNumber\n",
      "AcquisitionTime\n",
      "Authors\n",
      "BIDSVersion\n",
      "BandwidthPerPixelPhaseEncode\n",
      "BaseResolution\n",
      "ConversionSoftware\n",
      "ConversionSoftwareVersion\n",
      "DatasetDOI\n",
      "DerivedVendorReportedEchoSpacing\n",
      "DeviceSerialNumber\n",
      "Dim1Size\n",
      "Dim2Size\n",
      "Dim3Size\n",
      "DwellTime\n",
      "EchoTime\n",
      "EchoTrainLength\n",
      "EffectiveEchoSpacing\n",
      "FlipAngle\n",
      "Funding\n",
      "HowToAcknowledge\n",
      "ImageComments\n",
      "ImageOrientationPatientDICOM\n",
      "ImageType\n",
      "InPlanePhaseEncodingDirectionDICOM\n",
      "InstitutionAddress\n",
      "InstitutionName\n",
      "InstitutionalDepartmentName\n",
      "InversionTime\n",
      "License\n",
      "MRAcquisitionType\n",
      "MagneticFieldStrength\n",
      "Manufacturer\n",
      "ManufacturersModelName\n",
      "Modality\n",
      "MultibandAccelerationFactor\n",
      "Name\n",
      "NumVolumes\n",
      "Obliquity\n",
      "ParallelReductionFactorInPlane\n",
      "PartialFourier\n",
      "PatientPosition\n",
      "PercentPhaseFOV\n",
      "PhaseEncodingDirection\n",
      "PhaseEncodingSteps\n",
      "PhaseOversampling\n",
      "PhaseResolution\n",
      "PixelBandwidth\n",
      "ProcedureStepDescription\n",
      "ProtocolName\n",
      "PulseSequenceDetails\n",
      "ReceiveCoilName\n",
      "ReconMatrixPE\n",
      "ReferencesAndLinks\n",
      "RepetitionTime\n",
      "SAR\n",
      "ScanOptions\n",
      "ScanningSequence\n",
      "SequenceName\n",
      "SequenceVariant\n",
      "SeriesDescription\n",
      "SeriesNumber\n",
      "ShimSetting\n",
      "SliceThickness\n",
      "SliceTiming\n",
      "SoftwareVersions\n",
      "SpacingBetweenSlices\n",
      "StationName\n",
      "TaskName\n",
      "TotalReadoutTime\n",
      "TxRefAmp\n",
      "VoxelSizeDim1\n",
      "VoxelSizeDim2\n",
      "VoxelSizeDim3\n",
      "template\n",
      "trial_type\n"
     ]
    }
   ],
   "source": [
    "!cubids print-metadata-fields ~/babs_demo/raw_BIDS_multi-ses"
   ]
  },
  {
   "cell_type": "code",
   "execution_count": 2,
   "id": "f153a59f-b297-4981-92ce-4a98c27034f1",
   "metadata": {},
   "outputs": [
    {
     "name": "stdout",
     "output_type": "stream",
     "text": [
      "mriqc_24.0.0.sif  raw_BIDS_multi-ses\n"
     ]
    }
   ],
   "source": [
    "!ls ~/babs_demo/"
   ]
  },
  {
   "cell_type": "code",
   "execution_count": null,
   "id": "ba4c9f3c-4b7c-4296-bb3e-a785a63cdbb1",
   "metadata": {},
   "outputs": [],
   "source": []
  }
 ],
 "metadata": {
  "kernelspec": {
   "display_name": "Python 3 (ipykernel)",
   "language": "python",
   "name": "python3"
  },
  "language_info": {
   "codemirror_mode": {
    "name": "ipython",
    "version": 3
   },
   "file_extension": ".py",
   "mimetype": "text/x-python",
   "name": "python",
   "nbconvert_exporter": "python",
   "pygments_lexer": "ipython3",
   "version": "3.12.3"
  }
 },
 "nbformat": 4,
 "nbformat_minor": 5
}
